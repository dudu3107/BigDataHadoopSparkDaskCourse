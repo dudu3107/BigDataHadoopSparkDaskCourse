{
 "cells": [
  {
   "cell_type": "code",
   "execution_count": 1,
   "id": "9e7b5811",
   "metadata": {},
   "outputs": [
    {
     "data": {
      "text/plain": [
       "'/opt/workspace/Projet'"
      ]
     },
     "execution_count": 1,
     "metadata": {},
     "output_type": "execute_result"
    }
   ],
   "source": [
    "import os\n",
    "os.getcwd()"
   ]
  },
  {
   "cell_type": "code",
   "execution_count": 2,
   "id": "acd45dac",
   "metadata": {},
   "outputs": [
    {
     "name": "stdout",
     "output_type": "stream",
     "text": [
      "Requirement already satisfied: imageio in /usr/local/lib/python3.9/dist-packages (2.14.1)\n",
      "Requirement already satisfied: pillow>=8.3.2 in /usr/local/lib/python3.9/dist-packages (from imageio) (9.0.0)\n",
      "Requirement already satisfied: numpy in /usr/local/lib/python3.9/dist-packages (from imageio) (1.22.1)\n",
      "\u001b[33mWARNING: Running pip as the 'root' user can result in broken permissions and conflicting behaviour with the system package manager. It is recommended to use a virtual environment instead: https://pip.pypa.io/warnings/venv\u001b[0m\n",
      "\u001b[33mWARNING: You are using pip version 21.3.1; however, version 22.0.3 is available.\n",
      "You should consider upgrading via the '/usr/bin/python3 -m pip install --upgrade pip' command.\u001b[0m\n"
     ]
    }
   ],
   "source": [
    "import pyspark\n",
    "from pyspark import SparkContext\n",
    "!pip install imageio\n",
    "import imageio\n",
    "import os\n",
    "import numpy as np"
   ]
  },
  {
   "cell_type": "code",
   "execution_count": 3,
   "id": "458e7823",
   "metadata": {},
   "outputs": [],
   "source": [
    "def readImg(path):\n",
    "    img = imageio.imread(path)\n",
    "    im = np.array(img,dtype='uint8')\n",
    "    return im\n",
    "\n",
    "def writeImg(path,buf):\n",
    "    imageio.imwrite(path,buf)\n",
    "\n",
    "def part_median_filterV1(local_data):\n",
    "    #print(local_data)\n",
    "    part_id = local_data[0]\n",
    "    first   = local_data[1]\n",
    "    end     = local_data[2]\n",
    "    buf     = local_data[3]\n",
    "    nx=buf.shape[0]\n",
    "    ny=buf.shape[1]\n",
    "    #print(buf[0])\n",
    "    #print(first,\"first\\n\")\n",
    "    #print(end,\"end\\n\")\n",
    "    #print(part_id,\"part_id,\\n\")\n",
    "    #print(type(buf))\n",
    "    \n",
    "    ########################################\n",
    "    #\n",
    "    # CREATE NEW BUF WITH MEDIAN FILTER SOLUTION #juste créer le buffer vide\n",
    "    #\n",
    "    #new_buf=np.array([end-first,ny],dtype='uint8')\n",
    "    #new_buf=buf\n",
    "    #new_buf.shape(nx,ny)\n",
    "    #print(buf,\"buf\\n\")\n",
    "    #print(new_buf,\"new_buf\\n\")\n",
    "    #print(\"buf\",buf[0])\n",
    "    #print(\"nbuf\",new_buf[0])\n",
    "    #new_buf[0]=buf[0]\n",
    "    #new_buf[nx/8,ny/8] = []\n",
    "    #new_buf = buf.shape\n",
    "    #new_buf = new_buf.reshape(nx/8,ny/8,3)\n",
    "    new_buf = buf[first:end]\n",
    "    print(new_buf)\n",
    "    print(new_buf.shape)\n",
    "    sleep(1000)\n",
    "    #new_buf=buf\n",
    "    \n",
    "    ##########################################\n",
    "    #\n",
    "    # TODO COMPUTE MEDIAN FILTER\n",
    "    #\n",
    "    #from scipy import ndimage\n",
    "    #part_id = ndimage.median_filter(part_id, size=20)\n",
    "    #for i in range(1,100):\n",
    "        #new_buf[i]=buf[i-end]+buf[i+end]+buf[i-end+first]+buf[i-end-first]+buf[i+end+first]+buf[i+end-first]+buf[i-first]+buf[i+first]+buf[i]\n",
    "        #new_buf[i]=buf[i-1]+buf[i+1]+buf[i-1+1]+buf[i-1-1]+buf[i+1+1]+buf[i+1-1]+buf[i-1]+buf[i+1]+buf[i]\n",
    "        #new_buf[i]=buf[i-1]\n",
    "    \n",
    "    \n",
    "    ##########################################\n",
    "    #\n",
    "    # RETURN LOCAL IMAGE PART\n",
    "    #\n",
    "    #print(new_buf.shape)\n",
    "    return part_id,new_buf"
   ]
  },
  {
   "cell_type": "code",
   "execution_count": 4,
   "id": "6db99446",
   "metadata": {},
   "outputs": [
    {
     "name": "stdout",
     "output_type": "stream",
     "text": [
      "NB PARTITIONS :  8\n"
     ]
    },
    {
     "name": "stderr",
     "output_type": "stream",
     "text": [
      "22/02/21 12:21:38 WARN NativeCodeLoader: Unable to load native-hadoop library for your platform... using builtin-java classes where applicable\n",
      "Using Spark's default log4j profile: org/apache/spark/log4j-defaults.properties\n",
      "Setting default log level to \"WARN\".\n",
      "To adjust logging level use sc.setLogLevel(newLevel). For SparkR, use setLogLevel(newLevel).\n",
      "22/02/21 12:21:39 WARN Utils: Service 'SparkUI' could not bind on port 4040. Attempting port 4041.\n",
      "22/02/21 12:21:39 WARN Utils: Service 'SparkUI' could not bind on port 4041. Attempting port 4042.\n",
      "22/02/21 12:21:39 WARN Utils: Service 'SparkUI' could not bind on port 4042. Attempting port 4043.\n"
     ]
    }
   ],
   "source": [
    "data_dir=\"./data/\"\n",
    "file = os.path.join(data_dir,'lena_noisy.jpg')\n",
    "img_buf=readImg(file)\n",
    "#print('SHAPE',img_buf.shape)\n",
    "#print('IMG\\n',img_buf)\n",
    "nx=img_buf.shape[0]\n",
    "ny=img_buf.shape[1]\n",
    "\n",
    "###########################################################################\n",
    "#\n",
    "# SPLIT IMAGES IN NB_PARTITIONS PARTS\n",
    "nb_partitions = 8\n",
    "print(\"NB PARTITIONS : \",nb_partitions)\n",
    "data=[]\n",
    "begin=0\n",
    "block_size=nx/nb_partitions\n",
    "for ip in range(nb_partitions):\n",
    "    end=min(begin+block_size,nx)\n",
    "    data.append([ip,begin,end,img_buf])\n",
    "    begin=end\n",
    "\n",
    "\n",
    "###########################################################################\n",
    "#\n",
    "# CREATE SPARKCONTEXT\n",
    "sc =SparkContext()\n",
    "data_rdd = sc.parallelize(data,nb_partitions)\t"
   ]
  },
  {
   "cell_type": "code",
   "execution_count": 5,
   "id": "29af37fc",
   "metadata": {},
   "outputs": [],
   "source": [
    "def part_median_filter(local_data):\n",
    "    #print(local_data)\n",
    "    part_id = local_data[0]\n",
    "    first   = local_data[1]\n",
    "    end     = local_data[2]\n",
    "    buf     = local_data[3]\n",
    "    nx=buf.shape[0]\n",
    "    ny=buf.shape[1]\n",
    "    \n",
    "    index = (part_id*ny//nb_partitions)\n",
    "    if part_id == 0:\n",
    "        temp = img_buf[index:(index)+ny//nb_partitions+1].copy()\n",
    "    elif part_id == nb_partitions-1:\n",
    "        temp = img_buf[index-1:(index)+ny//nb_partitions].copy()\n",
    "    else:\n",
    "        temp = img_buf[index-1:(index)+ny//nb_partitions+1].copy()\n",
    "    #temp = img_buf[index:index+ny//nb_partitions].copy()\n",
    "    #temp = img_buf[index-1:(index)+ny//nb_partitions+1].copy()\n",
    "    #print(part_id,index,index+ny//nb_partitions)\n",
    "    #print(part_id)\n",
    "    #new_buf = temp.copy()\n",
    "    new_buf = np.zeros(temp.shape)\n",
    "    print(temp.shape)\n",
    "    #print(part_id)\n",
    "    #print(part_id,new_buf)\n",
    "    #print(index)\n",
    "    #print(index+ny//8)\n",
    "    \n",
    "    #new_img_buf = img_buf.copy()\n",
    "    for i in range(0,temp.shape[0]-1):\n",
    "        for j in range(0,temp.shape[1]-1):\n",
    "            #print(\"old\",img_buf[i,j])\n",
    "            #new_img_buf[i, j, :] = np.array([10., 2., -4.])\n",
    "            #new_img_buf[i,j]=img_buf[i,j]\n",
    "            #new_img_buf[i,j]=(img_buf[i,j]+img_buf[i+1,j]+img_buf[i,j+1]+img_buf[i+1,j+1]+img_buf[i-1,j]+img_buf[i,j-1]+img_buf[i-1,j-1]+img_buf[i+1,j-1]+img_buf[i-1,j+1])\n",
    "            #if i == temp.shape[0]-1:\n",
    "            #    new_buf[i,j]=np.median([temp[i,j,:],temp[i+1,j,:],temp[i,j+1,:],temp[i+1,j+1,:]],axis=0)\n",
    "            #elif j == temp.shape[1]-1:\n",
    "            #    new_buf[i,j]=np.median([temp[i,j,:],temp[i-1,j,:],temp[i,j-1,:],temp[i-1,j-1,:]],axis=0)\n",
    "            #else:\n",
    "            #    new_buf[i,j]=np.median([temp[i,j,:],temp[i+1,j,:],temp[i,j+1,:],temp[i+1,j+1,:],temp[i-1,j,:],temp[i,j-1,:],temp[i-1,j-1,:],temp[i+1,j-1,:],temp[i-1,j+1,:]],axis=0)\n",
    "            new_buf[i,j]=np.median([temp[i,j,:],temp[i+1,j,:],temp[i,j+1,:],temp[i+1,j+1,:],temp[i-1,j,:],temp[i,j-1,:],temp[i-1,j-1,:],temp[i+1,j-1,:],temp[i-1,j+1,:]],axis=0)\n",
    "        new_buf[i,temp.shape[1]-1]=np.median([temp[i,j,:],temp[i,j+1,:],temp[i-1,j,:],temp[i,j-1,:],temp[i-1,j-1,:],temp[i-1,j+1,:]],axis=0)\n",
    "        \n",
    "    \n",
    "    if part_id == 0:\n",
    "        new_buf = new_buf[:-1].copy()\n",
    "    elif part_id == nb_partitions-1:\n",
    "        new_buf = new_buf[1:].copy()\n",
    "        for j in range(0,temp.shape[1]-1):\n",
    "            new_buf[ny//nb_partitions-1,j]=np.median([temp[i,j,:],temp[i+1,j,:],temp[i-1,j,:],temp[i,j-1,:],temp[i-1,j-1,:],temp[i+1,j-1,:]],axis=0)\n",
    "    else:\n",
    "        new_buf = new_buf[1:-1].copy()\n",
    "    \n",
    "    return part_id,new_buf"
   ]
  },
  {
   "cell_type": "code",
   "execution_count": 6,
   "id": "5f80b8c2",
   "metadata": {},
   "outputs": [
    {
     "name": "stderr",
     "output_type": "stream",
     "text": [
      "(18, 128, 3)                                                        (0 + 8) / 8]\n",
      "(18, 128, 3)\n",
      "(18, 128, 3)\n",
      "(17, 128, 3)\n",
      "(18, 128, 3)\n",
      "(17, 128, 3)\n",
      "(18, 128, 3)\n",
      "(18, 128, 3)\n",
      "                                                                                \r"
     ]
    }
   ],
   "source": [
    "###########################################################################\n",
    "#\n",
    "# PARALLEL MEDIAN FILTER COMPUTATION\n",
    "result_rdd = data_rdd.map(part_median_filter)\n",
    "result_data = result_rdd.collect()\n",
    "\n",
    "#new_img_buf=np.array([nx,ny],dtype='uint8')\n",
    "#new_img_buf=buf"
   ]
  },
  {
   "cell_type": "code",
   "execution_count": 7,
   "id": "6a3e724e",
   "metadata": {},
   "outputs": [
    {
     "data": {
      "text/plain": [
       "(128, 128, 3)"
      ]
     },
     "execution_count": 7,
     "metadata": {},
     "output_type": "execute_result"
    }
   ],
   "source": [
    "img_buf.shape"
   ]
  },
  {
   "cell_type": "code",
   "execution_count": 8,
   "id": "43d368be",
   "metadata": {},
   "outputs": [],
   "source": [
    "#new_buf.shape"
   ]
  },
  {
   "cell_type": "code",
   "execution_count": 9,
   "id": "f006c383",
   "metadata": {},
   "outputs": [
    {
     "data": {
      "text/plain": [
       "8"
      ]
     },
     "execution_count": 9,
     "metadata": {},
     "output_type": "execute_result"
    }
   ],
   "source": [
    "len(result_data)"
   ]
  },
  {
   "cell_type": "code",
   "execution_count": 10,
   "id": "3e5ecc16",
   "metadata": {},
   "outputs": [],
   "source": [
    "#là"
   ]
  },
  {
   "cell_type": "code",
   "execution_count": 11,
   "id": "0f3d410a",
   "metadata": {},
   "outputs": [],
   "source": [
    "#img_buf[0]"
   ]
  },
  {
   "cell_type": "code",
   "execution_count": 12,
   "id": "47a15b92",
   "metadata": {},
   "outputs": [],
   "source": [
    "#result_data[0][1]"
   ]
  },
  {
   "cell_type": "markdown",
   "id": "28040ae6",
   "metadata": {},
   "source": [
    "def another(imgBuf):\n",
    "    # global new_img_buf\n",
    "    new_img_buf = np.zeros(imgBuf.shape)\n",
    "    for i in range(1,imgBuf.shape[0]-1):\n",
    "        for j in range(1,imgBuf.shape[1]-1):\n",
    "            # print(\"old\",imgBuf[i,j])\n",
    "            new_img_buf[i, j, :] = np.array([10., 2., -4.])\n",
    "            # new_img_buf[i,j, :]=(imgBuf[i,j, :]+imgBuf[i+1,j, :]+imgBuf[i,j+1, :]+imgBuf[i+1,j+1, :]+imgBuf[i-1,j, :]+imgBuf[i,j-1, :]+imgBuf[i-1,j-1,:]+imgBuf[i+1,j-1,:]+imgBuf[i-1,j+1,:])//9\n",
    "            # print(\"new\",new_img_buf[i,j])\n",
    "    return new_img_buf"
   ]
  },
  {
   "cell_type": "code",
   "execution_count": 13,
   "id": "4380adbe",
   "metadata": {},
   "outputs": [],
   "source": [
    "#new_img_buf = another(img_buf)\n",
    "#print(img_buf.shape)\n",
    "#print(new_img_buf.shape)\n",
    "# new_img_buf = img_buf\n",
    "# another(img_buf)"
   ]
  },
  {
   "cell_type": "markdown",
   "id": "89f7114f",
   "metadata": {},
   "source": [
    "#new_img_buf = np.zeros(img_buf.shape)\n",
    "new_img_buf = img_buf.copy()\n",
    "for i in range(1,img_buf.shape[0]-1):\n",
    "    for j in range(1,img_buf.shape[1]-1):\n",
    "        #print(\"old\",img_buf[i,j])\n",
    "        #new_img_buf[i, j, :] = np.array([10., 2., -4.])\n",
    "        #new_img_buf[i,j]=img_buf[i,j]\n",
    "        #new_img_buf[i,j]=(img_buf[i,j]+img_buf[i+1,j]+img_buf[i,j+1]+img_buf[i+1,j+1]+img_buf[i-1,j]+img_buf[i,j-1]+img_buf[i-1,j-1]+img_buf[i+1,j-1]+img_buf[i-1,j+1])\n",
    "        new_img_buf[i,j]=np.median([img_buf[i,j,:],img_buf[i+1,j,:],img_buf[i,j+1,:],img_buf[i+1,j+1,:],img_buf[i-1,j,:],img_buf[i,j-1,:],img_buf[i-1,j-1,:],img_buf[i+1,j-1,:],img_buf[i-1,j+1,:]],axis=0)\n",
    "        #print(\"new\",new_img_buf[i,j])"
   ]
  },
  {
   "cell_type": "code",
   "execution_count": 14,
   "id": "ecccf9da",
   "metadata": {},
   "outputs": [
    {
     "name": "stderr",
     "output_type": "stream",
     "text": [
      "Lossy conversion from float64 to uint8. Range [0.0, 255.0]. Convert image to uint8 prior to saving to suppress this warning.\n"
     ]
    },
    {
     "name": "stdout",
     "output_type": "stream",
     "text": [
      "(16, 128, 3)\n",
      "(16, 128, 3)\n",
      "(16, 128, 3)\n",
      "(16, 128, 3)\n",
      "(16, 128, 3)\n",
      "(16, 128, 3)\n",
      "(16, 128, 3)\n",
      "(16, 128, 3)\n",
      "CREATE NEW PICTURE FILE\n"
     ]
    }
   ],
   "source": [
    "###########################################################################\n",
    "#\n",
    "# COMPUTE NEW IMAGE RESULTS FROM RESULT RDD\n",
    "# TODO\n",
    "#begin=0\n",
    "#for ip in range(nb_partitions):\n",
    "    #end=min(begin+block_size,nx)\n",
    "    #new_img_buf.append([ip,begin,end,result_data])\n",
    "    #np.append(new_img_buf, [ip,begin,end,result_data])\n",
    "    #np.append(new_img_buf, [ip,begin,end,result_data[ip]])\n",
    "    #new_img_buf.append([ip,begin,end,result_data[ip]])\n",
    "    #new_img_buf.append(result_data[ip])\n",
    "    #begin=end\n",
    "\n",
    "new_img_buf = []\n",
    "for part in result_data:\n",
    "    new_img_buf.append(part[1])\n",
    "    print(part[1].shape)\n",
    "    #print(\"\\n\\n\\n\")\n",
    "    #np.append(new_img_buf, part[1])\n",
    "    #print(new_img_buf)\n",
    "#print(new_img_buf[0][1])\n",
    "    \n",
    "#new_img_buf = np.array(result_data)\n",
    "\n",
    "new_img_buf = np.vstack(new_img_buf)\n",
    "    \n",
    "print('CREATE NEW PICTURE FILE')\n",
    "filter_file = os.path.join(data_dir,'lena_filter.jpg')\n",
    "writeImg(filter_file,new_img_buf)"
   ]
  },
  {
   "cell_type": "code",
   "execution_count": null,
   "id": "34daf222",
   "metadata": {},
   "outputs": [],
   "source": [
    "new_img_buf.shape"
   ]
  },
  {
   "cell_type": "code",
   "execution_count": null,
   "id": "ac5aed11",
   "metadata": {},
   "outputs": [],
   "source": [
    "len(new_img_buf)"
   ]
  },
  {
   "cell_type": "code",
   "execution_count": null,
   "id": "140b5258",
   "metadata": {},
   "outputs": [],
   "source": [
    "test = np.vstack(new_img_buf)"
   ]
  },
  {
   "cell_type": "code",
   "execution_count": null,
   "id": "49c8468b",
   "metadata": {},
   "outputs": [],
   "source": [
    "test.shape"
   ]
  },
  {
   "cell_type": "code",
   "execution_count": null,
   "id": "6d2ec3fc",
   "metadata": {},
   "outputs": [],
   "source": [
    "part[1]"
   ]
  },
  {
   "cell_type": "code",
   "execution_count": null,
   "id": "bdebcd52",
   "metadata": {},
   "outputs": [],
   "source": [
    "new_img_buf[1,1]"
   ]
  },
  {
   "cell_type": "code",
   "execution_count": null,
   "id": "d66613ef",
   "metadata": {},
   "outputs": [],
   "source": [
    "new_img_buf[2,2]"
   ]
  },
  {
   "cell_type": "code",
   "execution_count": null,
   "id": "466403af",
   "metadata": {},
   "outputs": [],
   "source": [
    "(new_img_buf[1,1] + new_img_buf[2,2])//2"
   ]
  },
  {
   "cell_type": "code",
   "execution_count": null,
   "id": "0d226ed5",
   "metadata": {},
   "outputs": [],
   "source": [
    "test = np.sum(new_img_buf,axis=1)"
   ]
  },
  {
   "cell_type": "code",
   "execution_count": null,
   "id": "258c6aef",
   "metadata": {},
   "outputs": [],
   "source": [
    "np.median([img_buf[i,j,:],img_buf[i+1,j,:],img_buf[i,j+1,:],img_buf[i+1,j+1,:],img_buf[i-1,j,:],img_buf[i,j-1,:],img_buf[i-1,j-1,:],img_buf[i+1,j-1,:],img_buf[i-1,j+1,:]],axis=0)"
   ]
  },
  {
   "cell_type": "code",
   "execution_count": null,
   "id": "3c294d49",
   "metadata": {},
   "outputs": [],
   "source": [
    "img_buf[i,j,:]"
   ]
  },
  {
   "cell_type": "code",
   "execution_count": null,
   "id": "8b4948c6",
   "metadata": {},
   "outputs": [],
   "source": [
    "(img_buf[i,j]+img_buf[i+1,j]+img_buf[i,j+1]+img_buf[i+1,j+1]+img_buf[i-1,j]+img_buf[i,j-1]+img_buf[i-1,j-1]+img_buf[i+1,j-1]+img_buf[i-1,j+1])"
   ]
  },
  {
   "cell_type": "code",
   "execution_count": null,
   "id": "66b8e507",
   "metadata": {},
   "outputs": [],
   "source": [
    "print(img_buf[i,j])\n",
    "print(img_buf[i+1,j])\n",
    "print(img_buf[i,j+1])\n",
    "print(img_buf[i-1,j])\n",
    "print(img_buf[i,j-1])\n",
    "print(img_buf[i+1,j+1])\n",
    "print(img_buf[i+1,j-1])\n",
    "print(img_buf[i-1,j+1])\n",
    "print(img_buf[i-1,j-1])"
   ]
  },
  {
   "cell_type": "code",
   "execution_count": null,
   "id": "2e62dca4",
   "metadata": {},
   "outputs": [],
   "source": [
    "(118+125+122+104+100+214+109+107+131)//9"
   ]
  },
  {
   "cell_type": "code",
   "execution_count": null,
   "id": "8a1215a3",
   "metadata": {},
   "outputs": [],
   "source": [
    "(82+94+90+55+56+190+69+61+78)//9"
   ]
  },
  {
   "cell_type": "code",
   "execution_count": null,
   "id": "c81828e5",
   "metadata": {},
   "outputs": [],
   "source": [
    "#img_buf[1,1]"
   ]
  },
  {
   "cell_type": "code",
   "execution_count": null,
   "id": "b27af463",
   "metadata": {},
   "outputs": [],
   "source": [
    "#img_buf.shape[0]"
   ]
  },
  {
   "cell_type": "code",
   "execution_count": null,
   "id": "b6988ada",
   "metadata": {},
   "outputs": [],
   "source": [
    "#img_buf[1]"
   ]
  },
  {
   "cell_type": "code",
   "execution_count": null,
   "id": "8b0d3ede",
   "metadata": {},
   "outputs": [],
   "source": [
    "#new_img_buf[1]"
   ]
  },
  {
   "cell_type": "code",
   "execution_count": null,
   "id": "46b13105",
   "metadata": {},
   "outputs": [],
   "source": [
    "#new_img_buf[2]"
   ]
  },
  {
   "cell_type": "code",
   "execution_count": null,
   "id": "384d053c",
   "metadata": {},
   "outputs": [],
   "source": [
    "#img_buf[2]"
   ]
  },
  {
   "cell_type": "code",
   "execution_count": null,
   "id": "798e12b2",
   "metadata": {},
   "outputs": [],
   "source": [
    "img_buf[1,1]"
   ]
  },
  {
   "cell_type": "code",
   "execution_count": null,
   "id": "ce907eb2",
   "metadata": {},
   "outputs": [],
   "source": [
    "type(new_img_buf)"
   ]
  },
  {
   "cell_type": "code",
   "execution_count": null,
   "id": "dcd5e497",
   "metadata": {},
   "outputs": [],
   "source": [
    "type(img_buf)"
   ]
  },
  {
   "cell_type": "code",
   "execution_count": null,
   "id": "d92b96d8",
   "metadata": {},
   "outputs": [],
   "source": [
    "new_img_buf.shape"
   ]
  },
  {
   "cell_type": "code",
   "execution_count": null,
   "id": "fafc3806",
   "metadata": {},
   "outputs": [],
   "source": [
    "img_buf.shape"
   ]
  },
  {
   "cell_type": "code",
   "execution_count": null,
   "id": "a15cf1ae",
   "metadata": {},
   "outputs": [],
   "source": [
    "test = new_img_buf.flatten()"
   ]
  },
  {
   "cell_type": "code",
   "execution_count": null,
   "id": "aa7bc5c6",
   "metadata": {},
   "outputs": [],
   "source": [
    "test.shape"
   ]
  },
  {
   "cell_type": "code",
   "execution_count": null,
   "id": "c9febdf6",
   "metadata": {},
   "outputs": [],
   "source": [
    "result_data[0][1]"
   ]
  },
  {
   "cell_type": "code",
   "execution_count": null,
   "id": "41d25371",
   "metadata": {},
   "outputs": [],
   "source": [
    "a = np.zeros(img_buf.shape)\n",
    "a[0, 0, :] = np.array([10., 2., -4.])\n",
    "print(a[0, 0])"
   ]
  }
 ],
 "metadata": {
  "kernelspec": {
   "display_name": "Python 3 (ipykernel)",
   "language": "python",
   "name": "python3"
  },
  "language_info": {
   "codemirror_mode": {
    "name": "ipython",
    "version": 3
   },
   "file_extension": ".py",
   "mimetype": "text/x-python",
   "name": "python",
   "nbconvert_exporter": "python",
   "pygments_lexer": "ipython3",
   "version": "3.9.2"
  }
 },
 "nbformat": 4,
 "nbformat_minor": 5
}
