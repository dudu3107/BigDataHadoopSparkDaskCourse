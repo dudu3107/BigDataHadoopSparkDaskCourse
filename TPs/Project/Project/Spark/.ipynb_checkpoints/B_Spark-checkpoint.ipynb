{
 "cells": [
  {
   "cell_type": "code",
   "execution_count": 1,
   "id": "9e7b5811",
   "metadata": {},
   "outputs": [
    {
     "data": {
      "text/plain": [
       "'/opt/workspace/Projet'"
      ]
     },
     "execution_count": 1,
     "metadata": {},
     "output_type": "execute_result"
    }
   ],
   "source": [
    "import os\n",
    "os.getcwd()"
   ]
  },
  {
   "cell_type": "code",
   "execution_count": 2,
   "id": "acd45dac",
   "metadata": {},
   "outputs": [
    {
     "name": "stdout",
     "output_type": "stream",
     "text": [
      "Requirement already satisfied: imageio in /usr/local/lib/python3.9/dist-packages (2.14.1)\n",
      "Requirement already satisfied: pillow>=8.3.2 in /usr/local/lib/python3.9/dist-packages (from imageio) (9.0.0)\n",
      "Requirement already satisfied: numpy in /usr/local/lib/python3.9/dist-packages (from imageio) (1.22.1)\n",
      "\u001b[33mWARNING: Running pip as the 'root' user can result in broken permissions and conflicting behaviour with the system package manager. It is recommended to use a virtual environment instead: https://pip.pypa.io/warnings/venv\u001b[0m\n",
      "\u001b[33mWARNING: You are using pip version 21.3.1; however, version 22.0.3 is available.\n",
      "You should consider upgrading via the '/usr/bin/python3 -m pip install --upgrade pip' command.\u001b[0m\n"
     ]
    }
   ],
   "source": [
    "import pyspark\n",
    "from pyspark import SparkContext\n",
    "!pip install imageio\n",
    "import imageio\n",
    "import os\n",
    "import numpy as np"
   ]
  },
  {
   "cell_type": "code",
   "execution_count": 3,
   "id": "458e7823",
   "metadata": {},
   "outputs": [],
   "source": [
    "def readImg(path):\n",
    "    img = imageio.imread(path)\n",
    "    im = np.array(img,dtype='uint8')\n",
    "    return im\n",
    "\n",
    "def writeImg(path,buf):\n",
    "    imageio.imwrite(path,buf)"
   ]
  },
  {
   "cell_type": "code",
   "execution_count": 4,
   "id": "6db99446",
   "metadata": {},
   "outputs": [
    {
     "name": "stdout",
     "output_type": "stream",
     "text": [
      "NB PARTITIONS :  8\n"
     ]
    },
    {
     "name": "stderr",
     "output_type": "stream",
     "text": [
      "22/02/21 12:21:38 WARN NativeCodeLoader: Unable to load native-hadoop library for your platform... using builtin-java classes where applicable\n",
      "Using Spark's default log4j profile: org/apache/spark/log4j-defaults.properties\n",
      "Setting default log level to \"WARN\".\n",
      "To adjust logging level use sc.setLogLevel(newLevel). For SparkR, use setLogLevel(newLevel).\n",
      "22/02/21 12:21:39 WARN Utils: Service 'SparkUI' could not bind on port 4040. Attempting port 4041.\n",
      "22/02/21 12:21:39 WARN Utils: Service 'SparkUI' could not bind on port 4041. Attempting port 4042.\n",
      "22/02/21 12:21:39 WARN Utils: Service 'SparkUI' could not bind on port 4042. Attempting port 4043.\n"
     ]
    }
   ],
   "source": [
    "data_dir=\"./data/\"\n",
    "file = os.path.join(data_dir,'lena_noisy.jpg')\n",
    "img_buf=readImg(file)\n",
    "nx=img_buf.shape[0]\n",
    "ny=img_buf.shape[1]\n",
    "\n",
    "###########################################################################\n",
    "#\n",
    "# SPLIT IMAGES IN NB_PARTITIONS PARTS\n",
    "nb_partitions = 8\n",
    "print(\"NB PARTITIONS : \",nb_partitions)\n",
    "data=[]\n",
    "begin=0\n",
    "block_size=nx/nb_partitions\n",
    "for ip in range(nb_partitions):\n",
    "    end=min(begin+block_size,nx)\n",
    "    data.append([ip,begin,end,img_buf])\n",
    "    begin=end\n",
    "\n",
    "\n",
    "###########################################################################\n",
    "#\n",
    "# CREATE SPARKCONTEXT\n",
    "sc =SparkContext()\n",
    "data_rdd = sc.parallelize(data,nb_partitions)\t"
   ]
  },
  {
   "cell_type": "code",
   "execution_count": 5,
   "id": "29af37fc",
   "metadata": {},
   "outputs": [],
   "source": [
    "def part_median_filter(local_data):\n",
    "    part_id = local_data[0]\n",
    "    first   = local_data[1]\n",
    "    end     = local_data[2]\n",
    "    buf     = local_data[3]\n",
    "    nx=buf.shape[0]\n",
    "    ny=buf.shape[1]\n",
    "    \n",
    "    index = (part_id*ny//nb_partitions)\n",
    "    if part_id == 0:\n",
    "        temp = img_buf[index:(index)+ny//nb_partitions+1].copy()\n",
    "    elif part_id == nb_partitions-1:\n",
    "        temp = img_buf[index-1:(index)+ny//nb_partitions].copy()\n",
    "    else:\n",
    "        temp = img_buf[index-1:(index)+ny//nb_partitions+1].copy()\n",
    "    new_buf = np.zeros(temp.shape)\n",
    "    print(temp.shape)\n",
    "    \n",
    "    for i in range(0,temp.shape[0]-1):\n",
    "        for j in range(0,temp.shape[1]-1):\n",
    "            new_buf[i,j]=np.median([temp[i,j,:],temp[i+1,j,:],temp[i,j+1,:],temp[i+1,j+1,:],temp[i-1,j,:],temp[i,j-1,:],temp[i-1,j-1,:],temp[i+1,j-1,:],temp[i-1,j+1,:]],axis=0)\n",
    "        new_buf[i,temp.shape[1]-1]=np.median([temp[i,j,:],temp[i,j+1,:],temp[i-1,j,:],temp[i,j-1,:],temp[i-1,j-1,:],temp[i-1,j+1,:]],axis=0)\n",
    "    \n",
    "    if part_id == 0:\n",
    "        new_buf = new_buf[:-1].copy()\n",
    "    elif part_id == nb_partitions-1:\n",
    "        new_buf = new_buf[1:].copy()\n",
    "        for j in range(0,temp.shape[1]-1):\n",
    "            new_buf[ny//nb_partitions-1,j]=np.median([temp[i,j,:],temp[i+1,j,:],temp[i-1,j,:],temp[i,j-1,:],temp[i-1,j-1,:],temp[i+1,j-1,:]],axis=0)\n",
    "    else:\n",
    "        new_buf = new_buf[1:-1].copy()\n",
    "    \n",
    "    return part_id,new_buf"
   ]
  },
  {
   "cell_type": "code",
   "execution_count": 6,
   "id": "5f80b8c2",
   "metadata": {},
   "outputs": [
    {
     "name": "stderr",
     "output_type": "stream",
     "text": [
      "(18, 128, 3)                                                        (0 + 8) / 8]\n",
      "(18, 128, 3)\n",
      "(18, 128, 3)\n",
      "(17, 128, 3)\n",
      "(18, 128, 3)\n",
      "(17, 128, 3)\n",
      "(18, 128, 3)\n",
      "(18, 128, 3)\n",
      "                                                                                \r"
     ]
    }
   ],
   "source": [
    "###########################################################################\n",
    "#\n",
    "# PARALLEL MEDIAN FILTER COMPUTATION\n",
    "result_rdd = data_rdd.map(part_median_filter)\n",
    "result_data = result_rdd.collect()"
   ]
  },
  {
   "cell_type": "code",
   "execution_count": 14,
   "id": "ecccf9da",
   "metadata": {},
   "outputs": [
    {
     "name": "stderr",
     "output_type": "stream",
     "text": [
      "Lossy conversion from float64 to uint8. Range [0.0, 255.0]. Convert image to uint8 prior to saving to suppress this warning.\n"
     ]
    },
    {
     "name": "stdout",
     "output_type": "stream",
     "text": [
      "(16, 128, 3)\n",
      "(16, 128, 3)\n",
      "(16, 128, 3)\n",
      "(16, 128, 3)\n",
      "(16, 128, 3)\n",
      "(16, 128, 3)\n",
      "(16, 128, 3)\n",
      "(16, 128, 3)\n",
      "CREATE NEW PICTURE FILE\n"
     ]
    }
   ],
   "source": [
    "###########################################################################\n",
    "#\n",
    "# COMPUTE NEW IMAGE RESULTS FROM RESULT RDD\n",
    "new_img_buf = []\n",
    "for part in result_data:\n",
    "    new_img_buf.append(part[1])\n",
    "    print(part[1].shape)\n",
    "\n",
    "new_img_buf = np.vstack(new_img_buf)\n",
    "    \n",
    "print('CREATE NEW PICTURE FILE')\n",
    "filter_file = os.path.join(data_dir,'lena_filter.jpg')\n",
    "writeImg(filter_file,new_img_buf)"
   ]
  }
 ],
 "metadata": {
  "kernelspec": {
   "display_name": "Python 3 (ipykernel)",
   "language": "python",
   "name": "python3"
  },
  "language_info": {
   "codemirror_mode": {
    "name": "ipython",
    "version": 3
   },
   "file_extension": ".py",
   "mimetype": "text/x-python",
   "name": "python",
   "nbconvert_exporter": "python",
   "pygments_lexer": "ipython3",
   "version": "3.8.12"
  }
 },
 "nbformat": 4,
 "nbformat_minor": 5
}
