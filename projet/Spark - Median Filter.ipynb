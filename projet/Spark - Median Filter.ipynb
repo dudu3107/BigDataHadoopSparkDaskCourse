{
 "cells": [
  {
   "cell_type": "code",
   "execution_count": 1,
   "id": "bcce426a",
   "metadata": {},
   "outputs": [],
   "source": [
    "import pyspark\n",
    "from pyspark import SparkContext\n",
    "import imageio\n",
    "import os\n",
    "import numpy as np\n",
    "from scipy.ndimage import median_filter"
   ]
  },
  {
   "cell_type": "code",
   "execution_count": 2,
   "id": "76c00ec7",
   "metadata": {},
   "outputs": [],
   "source": [
    "def readImg(path):\n",
    "    img = imageio.imread(path)\n",
    "    im = np.array(img,dtype='uint8')\n",
    "    return im\n",
    "\n",
    "def writeImg(path,buf):\n",
    "    imageio.imwrite(path,buf)"
   ]
  },
  {
   "cell_type": "code",
   "execution_count": 3,
   "id": "eebf865e",
   "metadata": {},
   "outputs": [],
   "source": [
    "def part_median_filter(local_data):\n",
    "    part_id = local_data[0]\n",
    "    first   = local_data[1]\n",
    "    end     = local_data[2]\n",
    "    buf     = local_data[3]\n",
    "    nx=buf.shape[0]\n",
    "    ny=buf.shape[1]\n",
    "    \n",
    "    filly = np.zeros(shape=(nx, 1, 3)) \n",
    "\n",
    "    buf = np.concatenate([buf, filly], axis=1)\n",
    "    ########################################\n",
    "    #\n",
    "    # CREATE NEW BUF WITH MEDIAN FILTER SOLUTION\n",
    "    #\n",
    "    new_buf = np.zeros(shape=(nx - 2, ny, 3), dtype='uint8') # -2 pour effets de bords\n",
    "    #print(f\"new_buf size {new_buf.shape}\")\n",
    "    \n",
    "    ##########################################\n",
    "    #\n",
    "    # TODO COMPUTE MEDIAN FILTER\n",
    "    #\n",
    "    for i in range(new_buf.shape[0]):\n",
    "        for j in range(0, new_buf.shape[1]):\n",
    "            neigh = np.array([buf[i,j-1], buf[i,j], buf[i,j+1], buf[i+1,j-1], buf[i+1,j],\n",
    "                              buf[i+1,j+1], buf[i+2,j-1], buf[i+2,j], buf[i+2,j+1]])\n",
    "            new_buf[i, j, :] = np.median(neigh, axis=0)\n",
    "    \n",
    "    ##########################################\n",
    "    #\n",
    "    # RETURN LOCAL IMAGE PART\n",
    "    #\n",
    "    return part_id, new_buf"
   ]
  },
  {
   "cell_type": "code",
   "execution_count": 4,
   "id": "442fc301",
   "metadata": {},
   "outputs": [],
   "source": [
    "def main(n):\n",
    "    data_dir = ''\n",
    "    file = os.path.join(data_dir,'lena_noisy.jpg')\n",
    "    img_buf = readImg(file)\n",
    "    #print('SHAPE',img_buf.shape)\n",
    "    #print('IMG\\n',img_buf)\n",
    "    nx=img_buf.shape[0]\n",
    "    ny=img_buf.shape[1]\n",
    "    \n",
    "    ###########################################################################\n",
    "    #\n",
    "    # SPLT IMAGES IN NB_PARTITIONS PARTS\n",
    "    nb_partitions = n\n",
    "    #print(\"NB PARTITIONS : \",nb_partitions)\n",
    "    data=[]\n",
    "    begin=0\n",
    "    block_size=nx/nb_partitions\n",
    "    fill = np.zeros((1, ny, 3))\n",
    "    if nb_partitions > 1:\n",
    "        for ip in range(nb_partitions):\n",
    "            begin = int(max(ip * block_size - 1, 0))\n",
    "            end = int(min((ip+1) * block_size + 1, nx))\n",
    "            if (ip == 0):\n",
    "                filled = np.concatenate([fill, img_buf[begin:end, :, :]])\n",
    "                data.append([ip,begin,end,filled])\n",
    "            elif (ip == (nb_partitions - 1)):\n",
    "                filled = np.concatenate([img_buf[begin:end, :, :], fill])\n",
    "                data.append([ip,begin,end,filled])\n",
    "            else: \n",
    "                data.append([ip, begin, end, img_buf[begin:end, :, :]])\n",
    "    else:\n",
    "        filled = np.concatenate([fill, img_buf, fill])\n",
    "        data.append([1, begin, nx, filled])\n",
    "\n",
    "    \"\"\"for i in range(nb_partitions):\n",
    "        print(f\"Partition {i} shape {data[i][3].shape}\")\"\"\"\n",
    "    ###########################################################################\n",
    "    #\n",
    "    # CREATE SPARKCONTEXT\n",
    "    data_rdd = sc.parallelize(data, nb_partitions)\n",
    "\n",
    "    \n",
    "    \n",
    "    ###########################################################################\n",
    "    #\n",
    "    # PARALLEL MEDIAN FILTER COMPUTATION\n",
    "    result_rdd = data_rdd.map(part_median_filter)\n",
    "    result_data = result_rdd.collect() # list of 8\n",
    "    \n",
    "    ###########################################################################\n",
    "    #\n",
    "    # COMPUTE NEW IMAGE RESULTS FROM RESULT RDD\n",
    "    ids = []\n",
    "    arrays = []\n",
    "    for i, d in result_data:\n",
    "        ids.append(int(i))\n",
    "        arrays.append(d)\n",
    "        \n",
    "    ids = np.asarray(ids)\n",
    "    arrays = np.asarray(arrays)\n",
    "    order = np.argsort(ids)\n",
    "    \n",
    "    ids = ids[order]\n",
    "    arrays = arrays[order]\n",
    "    \n",
    "    new_img_buf = np.concatenate(arrays)\n",
    "    print(f\"Final shape : {new_img_buf.shape}\")\n",
    "    \n",
    "    print('CREATE NEW PICTURE FILE')\n",
    "    filter_file = os.path.join(data_dir,'lena_filter.jpg')\n",
    "    writeImg(filter_file, new_img_buf)"
   ]
  },
  {
   "cell_type": "code",
   "execution_count": 5,
   "id": "3ea31ef7",
   "metadata": {},
   "outputs": [
    {
     "name": "stderr",
     "output_type": "stream",
     "text": [
      "2022-02-19 15:59:06,705 WARN util.Utils: Your hostname, HPCAI10 resolves to a loopback address: 127.0.1.1; using 192.168.1.85 instead (on interface wifi0)\n",
      "2022-02-19 15:59:06,706 WARN util.Utils: Set SPARK_LOCAL_IP if you need to bind to another address\n",
      "Setting default log level to \"WARN\".\n",
      "To adjust logging level use sc.setLogLevel(newLevel). For SparkR, use setLogLevel(newLevel).\n",
      "                                                                                \r"
     ]
    },
    {
     "name": "stdout",
     "output_type": "stream",
     "text": [
      "Final shape : (128, 128, 3)\n",
      "CREATE NEW PICTURE FILE\n",
      "Final shape : (128, 128, 3)\n",
      "CREATE NEW PICTURE FILE\n",
      "Final shape : (128, 128, 3)\n",
      "CREATE NEW PICTURE FILE\n",
      "Final shape : (128, 128, 3)\n",
      "CREATE NEW PICTURE FILE\n",
      "Final shape : (128, 128, 3)\n",
      "CREATE NEW PICTURE FILE\n",
      "[0.6376335620880127, 0.3685026168823242, 0.2895369529724121, 0.3275258541107178]\n"
     ]
    }
   ],
   "source": [
    "import time\n",
    "\n",
    "\n",
    "sc = SparkContext()\n",
    "main(1)\n",
    "\n",
    "n_chunks = [1, 2, 4, 8]\n",
    "times = []\n",
    "for i in [1, 2, 4, 8]:\n",
    "    start_t = time.time()\n",
    "    main(i)\n",
    "    times.append(time.time() - start_t)\n",
    "print(times)"
   ]
  },
  {
   "cell_type": "code",
   "execution_count": 9,
   "id": "50db0cbb",
   "metadata": {},
   "outputs": [
    {
     "data": {
      "text/plain": [
       "Text(0.5, 1.0, 'Spark compute time as a function of n_chunks')"
      ]
     },
     "execution_count": 9,
     "metadata": {},
     "output_type": "execute_result"
    },
    {
     "data": {
      "image/png": "[encoded data removed]",
      "text/plain": [
       "<Figure size 432x288 with 1 Axes>"
      ]
     },
     "metadata": {
      "needs_background": "light"
     },
     "output_type": "display_data"
    }
   ],
   "source": [
    "import matplotlib.pyplot as plt\n",
    "n_chunks = [1, 2, 4, 8]\n",
    "plt.plot(n_chunks, times, label=\"Spark\", marker=\"o\", color=\"orange\")\n",
    "plt.grid()\n",
    "plt.xlabel(\"Nb partitions\")\n",
    "plt.ylabel(\"Compute time\")\n",
    "plt.title(\"Spark compute time as a function of n_chunks\")\n",
    "#plt.savefig(\"spark.png\")"
   ]
  },
  {
   "cell_type": "code",
   "execution_count": null,
   "id": "ca5961b8",
   "metadata": {},
   "outputs": [],
   "source": []
  }
 ],
 "metadata": {
  "kernelspec": {
   "display_name": "Python 3 (ipykernel)",
   "language": "python",
   "name": "python3"
  },
  "language_info": {
   "codemirror_mode": {
    "name": "ipython",
    "version": 3
   },
   "file_extension": ".py",
   "mimetype": "text/x-python",
   "name": "python",
   "nbconvert_exporter": "python",
   "pygments_lexer": "ipython3",
   "version": "3.9.7"
  }
 },
 "nbformat": 4,
 "nbformat_minor": 5
}
